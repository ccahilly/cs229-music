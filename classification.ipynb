{
 "cells": [
  {
   "cell_type": "code",
   "execution_count": 1,
   "id": "ab24f11b",
   "metadata": {},
   "outputs": [],
   "source": [
    "# import os\n",
    "# data_dir = \"/home/thomasyim/.cache/kagglehub/datasets/andradaolteanu/\"\\\n",
    "#     + \"gtzan-dataset-music-genre-classification/versions/1\"\n",
    "\n",
    "# genre_dirs = os.listdir(f\"{data_dir}/Data/genres_original/\")\n",
    "\n",
    "# filenames = []\n",
    "# genres = []\n",
    "\n",
    "# for genre in genre_dirs:\n",
    "#     for file in os.listdir(f\"{data_dir}/Data/genres_original/{genre}\"):\n",
    "#         filenames.append(file)\n",
    "#         genres.append(genre)"
   ]
  },
  {
   "cell_type": "code",
   "execution_count": 2,
   "id": "20f206a4",
   "metadata": {},
   "outputs": [],
   "source": [
    "# import pandas as pd\n",
    "\n",
    "# data = {\n",
    "#     \"filename\": filenames,\n",
    "#     \"genres\": genres\n",
    "# }\n",
    "\n",
    "# df = pd.DataFrame(data)\n",
    "# df = df.sample(frac = 1)\n",
    "# df.head"
   ]
  },
  {
   "cell_type": "code",
   "execution_count": 3,
   "id": "1890bc37",
   "metadata": {},
   "outputs": [],
   "source": [
    "# from sklearn.model_selection import train_test_split\n",
    "\n",
    "# train, test = train_test_split(df, test_size=0.2)"
   ]
  },
  {
   "cell_type": "code",
   "execution_count": 4,
   "id": "11fabcca",
   "metadata": {},
   "outputs": [],
   "source": [
    "# train.to_csv(\"classification_train.csv\")\n",
    "# len(train)"
   ]
  },
  {
   "cell_type": "code",
   "execution_count": 5,
   "id": "8c17f90c",
   "metadata": {},
   "outputs": [],
   "source": [
    "# test.to_csv(\"classification_test.csv\")\n",
    "# len(test)"
   ]
  },
  {
   "cell_type": "code",
   "execution_count": 6,
   "id": "5329a0c7",
   "metadata": {},
   "outputs": [],
   "source": [
    "data_dir = \"/home/thomasyim/.cache/kagglehub/datasets/andradaolteanu/\"\\\n",
    "    + \"gtzan-dataset-music-genre-classification/versions/1\"\n"
   ]
  },
  {
   "cell_type": "code",
   "execution_count": 25,
   "id": "826f035a",
   "metadata": {},
   "outputs": [
    {
     "name": "stdout",
     "output_type": "stream",
     "text": [
      "Using device: cuda\n"
     ]
    }
   ],
   "source": [
    "import torch\n",
    "from torch import nn\n",
    "from torch.utils.data import DataLoader\n",
    "from transformers import AutoModel, Wav2Vec2FeatureExtractor, T5Tokenizer, T5ForConditionalGeneration, AutoProcessor\n",
    "from transformers import Wav2Vec2Processor, Wav2Vec2Model\n",
    "import torchaudio.transforms as T\n",
    "from datasets import load_dataset\n",
    "\n",
    "# Check for GPU\n",
    "device = torch.device(\"cuda\" if torch.cuda.is_available() else \"cpu\")\n",
    "print(f\"Using device: {device}\")\n",
    "\n",
    "\n",
    "# Load Pre-trained Models\n",
    "# encoder_model = AutoModel.from_pretrained(\"m-a-p/MERT-v1-330M\", trust_remote_code=True)\n",
    "# processor = AutoProcessor.from_pretrained(\"m-a-p/MERT-v1-330M\", trust_remote_code=True)\n",
    "# final_layer_dimension = 1024\n",
    "\n",
    "processor = AutoProcessor.from_pretrained(\"laion/larger_clap_music\")\n",
    "encoder_model = AutoModel.from_pretrained(\"laion/larger_clap_music\")\n",
    "final_layer_dimension = 512\n",
    "\n",
    "# processor = Wav2Vec2FeatureExtractor.from_pretrained(\"facebook/wav2vec2-base\")\n",
    "# encoder_model = Wav2Vec2Model.from_pretrained(\"facebook/wav2vec2-base\")\n",
    "# final_layer_dimension = 768\n",
    "\n",
    "# Freeze MERT encoder\n",
    "# for param in encoder_model.parameters():\n",
    "#     param.requires_grad = False"
   ]
  },
  {
   "cell_type": "code",
   "execution_count": 26,
   "id": "2a0c25ca",
   "metadata": {},
   "outputs": [],
   "source": [
    "genres = [\"blues\", \"classical\", \"country\", \"disco\", \"hiphop\", \"jazz\", \"metal\", \"pop\", \"reggae\", \"rock\"]\n",
    "genre_to_idx = {genre: idx for idx, genre in enumerate(genres)}\n",
    "idx_to_genre = {idx: genre for idx, genre in enumerate(genres)}"
   ]
  },
  {
   "cell_type": "code",
   "execution_count": 27,
   "id": "be17fb21",
   "metadata": {},
   "outputs": [
    {
     "data": {
      "text/plain": [
       "{'blues': 0,\n",
       " 'classical': 1,\n",
       " 'country': 2,\n",
       " 'disco': 3,\n",
       " 'hiphop': 4,\n",
       " 'jazz': 5,\n",
       " 'metal': 6,\n",
       " 'pop': 7,\n",
       " 'reggae': 8,\n",
       " 'rock': 9}"
      ]
     },
     "execution_count": 27,
     "metadata": {},
     "output_type": "execute_result"
    }
   ],
   "source": [
    "genre_to_idx"
   ]
  },
  {
   "cell_type": "code",
   "execution_count": 28,
   "id": "5eeefb18",
   "metadata": {},
   "outputs": [],
   "source": [
    "def process_audio(filename, processor):\n",
    "    waveform, sample_rate = torchaudio.load(filename)\n",
    "    \n",
    "    if waveform.size(0) > 1:\n",
    "        waveform = torch.mean(waveform, dim=0, keepdim=True)\n",
    "    # print(sample_rate)\n",
    "\n",
    "    if sample_rate != processor.sampling_rate:\n",
    "        resampler = torchaudio.transforms.Resample(orig_freq=sample_rate, new_freq=processor.sampling_rate)\n",
    "        waveform = resampler(waveform)\n",
    "    # print(self.resample_rate)\n",
    "#     waveform = torch.nn.functional.pad(waveform, (0, 30 * processor_sample_rate - len(waveform[0])), mode=\"constant\", value=0)\n",
    "#     print(waveform.shape)\n",
    "\n",
    "    waveform = waveform[:,:3 * processor.sampling_rate]\n",
    "    audio_input = processor(waveform.squeeze().numpy(), sampling_rate=processor.sampling_rate, return_tensors=\"pt\")\n",
    "    return audio_input\n",
    "\n",
    "def process_audio_clap(filename, processor):\n",
    "    waveform, sample_rate = torchaudio.load(filename)\n",
    "    \n",
    "    if waveform.size(0) > 1:\n",
    "        waveform = torch.mean(waveform, dim=0, keepdim=True)\n",
    "    # print(sample_rate)\n",
    "\n",
    "    if sample_rate != processor.feature_extractor.sampling_rate:\n",
    "        resampler = torchaudio.transforms.Resample(orig_freq=sample_rate, new_freq=processor.feature_extractor.sampling_rate)\n",
    "        waveform = resampler(waveform)\n",
    "    # print(self.resample_rate)\n",
    "#     waveform = torch.nn.functional.pad(waveform, (0, 30 * processor_sample_rate - len(waveform[0])), mode=\"constant\", value=0)\n",
    "#     print(waveform.shape)\n",
    "\n",
    "    waveform = waveform[:,:3 * processor.feature_extractor.sampling_rate]\n",
    "    audio_input = processor(audios=waveform.squeeze().numpy(), sampling_rate=processor.feature_extractor.sampling_rate, return_tensors=\"pt\")\n",
    "    return audio_input"
   ]
  },
  {
   "cell_type": "code",
   "execution_count": 29,
   "id": "aa2ac67b",
   "metadata": {},
   "outputs": [],
   "source": [
    "import torchaudio\n",
    "from torch.utils.data import Dataset\n",
    "\n",
    "class MusicDataset(Dataset):\n",
    "    def __init__(self, file_paths, genres, processor):\n",
    "        self.file_paths = file_paths\n",
    "        self.genres = genres\n",
    "        self.processor = processor\n",
    "\n",
    "    def __len__(self):\n",
    "        return len(self.file_paths)\n",
    "\n",
    "    def __getitem__(self, idx):\n",
    "        cur_genre = self.genres[idx]\n",
    "        label = genre_to_idx[cur_genre]\n",
    "        \n",
    "        file_path = self.file_paths[idx]\n",
    "        \n",
    "        audio_input = process_audio(f\"{data_dir}/Data/genres_original/{cur_genre}/{file_path}\", self.processor)\n",
    "\n",
    "        return {\"audio_input\": audio_input, \"label\": label}\n",
    "    \n",
    "class MusicDatasetCLAP(Dataset):\n",
    "    def __init__(self, file_paths, genres, processor):\n",
    "        self.file_paths = file_paths\n",
    "        self.genres = genres\n",
    "        self.processor = processor\n",
    "\n",
    "    def __len__(self):\n",
    "        return len(self.file_paths)\n",
    "\n",
    "    def __getitem__(self, idx):\n",
    "        cur_genre = self.genres[idx]\n",
    "        label = genre_to_idx[cur_genre]\n",
    "        \n",
    "        file_path = self.file_paths[idx]\n",
    "        \n",
    "        audio_input = process_audio_clap(f\"{data_dir}/Data/genres_original/{cur_genre}/{file_path}\", self.processor)\n",
    "\n",
    "        return {\"audio_input\": audio_input, \"label\": label}\n",
    "    \n"
   ]
  },
  {
   "cell_type": "code",
   "execution_count": 30,
   "id": "2400dfa5",
   "metadata": {},
   "outputs": [],
   "source": [
    "class GenreClassificationModel(nn.Module):\n",
    "    def __init__(self, encoder):\n",
    "        super(GenreClassificationModel, self).__init__()\n",
    "        self.encoder = encoder\n",
    "        self.layer_1 = nn.Sequential(\n",
    "            nn.Linear(final_layer_dimension, 512),\n",
    "            nn.ReLU(),\n",
    "            nn.BatchNorm1d(512)\n",
    "        )\n",
    "        self.layer_2 = nn.Linear(512, 10)\n",
    "\n",
    "    def forward(self, audio_input):\n",
    "#         print(audio_input[\"input_values\"].size())\n",
    "#             outputs = self.encoder.get_audio_features(**audio_input, output_hidden_states=True)\n",
    "        outputs = self.encoder(**audio_input, output_hidden_states=True).last_hidden_state\n",
    "#             print(outputs.shape)\n",
    "#             print(\"Last output hidden\")\n",
    "#             print(outputs.last_hidden_state.shape)\n",
    "#             final_layer_hidden = outputs.last_hidden_state\n",
    "        \n",
    "#         print(\"After encoder\")\n",
    "#         print(final_layer_hidden.shape)\n",
    "#         print(outputs.shape)\n",
    "        # Average across time dimension\n",
    "        time_reduced_hidden = outputs.mean(-2)\n",
    "#         print(\"Reduced time\")\n",
    "#         print(time_reduced_hidden.shape)\n",
    "        \n",
    "        hidden = self.layer_1(time_reduced_hidden)\n",
    "#         print(\"After hidden\")\n",
    "#         print(hidden.shape)\n",
    "        output = self.layer_2(hidden)\n",
    "        return output\n",
    "    \n",
    "class GenreClassificationModelCLAP(nn.Module):\n",
    "    def __init__(self, encoder):\n",
    "        super(GenreClassificationModelCLAP, self).__init__()\n",
    "        self.encoder = encoder\n",
    "        self.layer_1 = nn.Sequential(\n",
    "            nn.Linear(512, 512),\n",
    "            nn.ReLU(),\n",
    "            nn.BatchNorm1d(512)\n",
    "        )\n",
    "        self.layer_2 = nn.Linear(512, 10)\n",
    "\n",
    "    def forward(self, audio_input):\n",
    "        outputs = self.encoder.get_audio_features(**audio_input)\n",
    "        # print(outputs.shape)\n",
    "        \n",
    "        hidden = self.layer_1(outputs)\n",
    "#         print(\"After hidden\")\n",
    "#         print(hidden.shape)\n",
    "        output = self.layer_2(hidden)\n",
    "        return output"
   ]
  },
  {
   "cell_type": "code",
   "execution_count": 31,
   "id": "97b62269",
   "metadata": {},
   "outputs": [],
   "source": [
    "# Initialize Model\n",
    "model = GenreClassificationModelCLAP(encoder=encoder_model).to(device)"
   ]
  },
  {
   "cell_type": "code",
   "execution_count": 32,
   "id": "f03fd260",
   "metadata": {},
   "outputs": [],
   "source": [
    "def collate_fn(batch):\n",
    "    audio_inputs = {key: torch.cat([item[\"audio_input\"][key] for item in batch], dim=0) for key in batch[0][\"audio_input\"]}\n",
    "    labels = torch.tensor([item[\"label\"] for item in batch])\n",
    "    \n",
    "    return audio_inputs, labels\n"
   ]
  },
  {
   "cell_type": "code",
   "execution_count": 33,
   "id": "7a2239ae",
   "metadata": {},
   "outputs": [],
   "source": [
    "import pandas as pd\n",
    "df_train = pd.read_csv(\"classification_train.csv\")\n",
    "df_test = pd.read_csv(\"classification_test.csv\")\n",
    "\n",
    "dataset_train = MusicDatasetCLAP(list(df_train[\"filename\"]), list(df_train[\"genres\"]), processor)\n",
    "dataset_test = MusicDatasetCLAP(list(df_test[\"filename\"]), list(df_test[\"genres\"]), processor)\n",
    "\n",
    "dataloader_train = DataLoader(dataset_train, batch_size=8, collate_fn=collate_fn)\n",
    "dataloader_test = DataLoader(dataset_test, batch_size=8, collate_fn=collate_fn)"
   ]
  },
  {
   "cell_type": "code",
   "execution_count": 34,
   "id": "b1a9b4aa",
   "metadata": {},
   "outputs": [
    {
     "name": "stdout",
     "output_type": "stream",
     "text": [
      "5\n",
      "8\n"
     ]
    }
   ],
   "source": [
    "import numpy as np\n",
    "model.eval()\n",
    "with torch.no_grad():\n",
    "    res = model(dataset_train[0][\"audio_input\"].to(device))\n",
    "\n",
    "print(dataset_train[0][\"label\"])\n",
    "print(np.argmax(res.cpu().numpy()))"
   ]
  },
  {
   "cell_type": "code",
   "execution_count": 35,
   "id": "57c915fb",
   "metadata": {},
   "outputs": [],
   "source": [
    "# import librosa\n",
    "# from IPython.display import Audio\n",
    "\n",
    "# # Load and preprocess the audio file\n",
    "# file_path = \"/home/thomasyim/.cache/kagglehub/datasets/andradaolteanu/gtzan-dataset-music-genre-classification/versions/1/Data/genres_original/jazz/jazz.00054.wav\"\n",
    "# y, sr = librosa.load(file_path, sr=24000)  # Resample to 16 kHz\n",
    "\n",
    "# # Play the audio\n",
    "# Audio(data=y, rate=sr)\n"
   ]
  },
  {
   "cell_type": "code",
   "execution_count": 36,
   "id": "c1dd370a",
   "metadata": {
    "scrolled": true
   },
   "outputs": [],
   "source": [
    "import torch.nn as nn\n",
    "import torch.optim as optim\n",
    "\n",
    "# Loss function and optimizer\n",
    "criterion = nn.CrossEntropyLoss()  # For multi-class classification\n",
    "optimizer = optim.Adam(model.parameters(), lr=1e-5)"
   ]
  },
  {
   "cell_type": "code",
   "execution_count": 37,
   "id": "9c0a6c55",
   "metadata": {},
   "outputs": [],
   "source": [
    "import torch\n",
    "from tqdm import tqdm\n",
    "\n",
    "def train(model, dataloader, criterion, optimizer, epochs=10, device=\"cuda\"):\n",
    "    model.to(device)\n",
    "    model.train()\n",
    "\n",
    "    for epoch in range(epochs):\n",
    "        total_loss = 0\n",
    "        correct = 0\n",
    "        total = 0\n",
    "\n",
    "        for batch in tqdm(dataloader):\n",
    "            audio_inputs, labels = batch\n",
    "            audio_inputs = {key: val.squeeze(0).to(device) for key, val in audio_inputs.items()}\n",
    "            labels = labels.to(device)\n",
    "\n",
    "            # Forward pass\n",
    "            optimizer.zero_grad()\n",
    "            outputs = model(audio_inputs)\n",
    "            \n",
    "            # Calculate loss\n",
    "            loss = criterion(outputs, labels)\n",
    "            total_loss += loss.item()\n",
    "\n",
    "            # Backward pass and optimization\n",
    "            loss.backward()\n",
    "            optimizer.step()\n",
    "\n",
    "            # Calculate accuracy\n",
    "            preds = torch.argmax(outputs, dim=1)\n",
    "            correct += (preds == labels).sum().item()\n",
    "            total += labels.size(0)\n",
    "#             print(f\"Epoch {epoch + 1}/{epochs},  Current Loss: {loss:.4f}\")\n",
    "\n",
    "        # Epoch results\n",
    "        print(f\"Epoch {epoch + 1}/{epochs}, Loss: {total_loss:.4f}, Accuracy: {correct / total:.4f}\")\n"
   ]
  },
  {
   "cell_type": "code",
   "execution_count": 38,
   "id": "dcc2e3e3",
   "metadata": {},
   "outputs": [
    {
     "name": "stderr",
     "output_type": "stream",
     "text": [
      "100%|████████████████████████████████████████████████████████████████████████████████████████| 100/100 [01:25<00:00,  1.17it/s]\n"
     ]
    },
    {
     "name": "stdout",
     "output_type": "stream",
     "text": [
      "Epoch 1/10, Loss: 207.0818, Accuracy: 0.2675\n"
     ]
    },
    {
     "name": "stderr",
     "output_type": "stream",
     "text": [
      "100%|████████████████████████████████████████████████████████████████████████████████████████| 100/100 [01:37<00:00,  1.02it/s]\n"
     ]
    },
    {
     "name": "stdout",
     "output_type": "stream",
     "text": [
      "Epoch 2/10, Loss: 189.2716, Accuracy: 0.3337\n"
     ]
    },
    {
     "name": "stderr",
     "output_type": "stream",
     "text": [
      "100%|████████████████████████████████████████████████████████████████████████████████████████| 100/100 [02:39<00:00,  1.60s/it]\n"
     ]
    },
    {
     "name": "stdout",
     "output_type": "stream",
     "text": [
      "Epoch 3/10, Loss: 177.0466, Accuracy: 0.3650\n"
     ]
    },
    {
     "name": "stderr",
     "output_type": "stream",
     "text": [
      "100%|████████████████████████████████████████████████████████████████████████████████████████| 100/100 [02:39<00:00,  1.60s/it]\n"
     ]
    },
    {
     "name": "stdout",
     "output_type": "stream",
     "text": [
      "Epoch 4/10, Loss: 165.9648, Accuracy: 0.4113\n"
     ]
    },
    {
     "name": "stderr",
     "output_type": "stream",
     "text": [
      "100%|████████████████████████████████████████████████████████████████████████████████████████| 100/100 [02:39<00:00,  1.60s/it]\n"
     ]
    },
    {
     "name": "stdout",
     "output_type": "stream",
     "text": [
      "Epoch 5/10, Loss: 156.0376, Accuracy: 0.4650\n"
     ]
    },
    {
     "name": "stderr",
     "output_type": "stream",
     "text": [
      "100%|████████████████████████████████████████████████████████████████████████████████████████| 100/100 [02:06<00:00,  1.27s/it]\n"
     ]
    },
    {
     "name": "stdout",
     "output_type": "stream",
     "text": [
      "Epoch 6/10, Loss: 144.2216, Accuracy: 0.5162\n"
     ]
    },
    {
     "name": "stderr",
     "output_type": "stream",
     "text": [
      "100%|████████████████████████████████████████████████████████████████████████████████████████| 100/100 [01:26<00:00,  1.15it/s]\n"
     ]
    },
    {
     "name": "stdout",
     "output_type": "stream",
     "text": [
      "Epoch 7/10, Loss: 133.5374, Accuracy: 0.5463\n"
     ]
    },
    {
     "name": "stderr",
     "output_type": "stream",
     "text": [
      "100%|████████████████████████████████████████████████████████████████████████████████████████| 100/100 [01:25<00:00,  1.17it/s]\n"
     ]
    },
    {
     "name": "stdout",
     "output_type": "stream",
     "text": [
      "Epoch 8/10, Loss: 122.3390, Accuracy: 0.5913\n"
     ]
    },
    {
     "name": "stderr",
     "output_type": "stream",
     "text": [
      "100%|████████████████████████████████████████████████████████████████████████████████████████| 100/100 [01:27<00:00,  1.15it/s]\n"
     ]
    },
    {
     "name": "stdout",
     "output_type": "stream",
     "text": [
      "Epoch 9/10, Loss: 111.9715, Accuracy: 0.6650\n"
     ]
    },
    {
     "name": "stderr",
     "output_type": "stream",
     "text": [
      "100%|████████████████████████████████████████████████████████████████████████████████████████| 100/100 [01:26<00:00,  1.16it/s]"
     ]
    },
    {
     "name": "stdout",
     "output_type": "stream",
     "text": [
      "Epoch 10/10, Loss: 99.3605, Accuracy: 0.7200\n"
     ]
    },
    {
     "name": "stderr",
     "output_type": "stream",
     "text": [
      "\n"
     ]
    }
   ],
   "source": [
    "train(model, dataloader_train, criterion, optimizer, epochs=10, device=device)"
   ]
  },
  {
   "cell_type": "code",
   "execution_count": 39,
   "id": "2bd69ddd",
   "metadata": {},
   "outputs": [],
   "source": [
    "def evaluate(model, dataloader, criterion, device=\"cuda\"):\n",
    "    model.to(device)\n",
    "    model.eval()\n",
    "\n",
    "    total_loss = 0\n",
    "    correct = 0\n",
    "    total = 0\n",
    "\n",
    "    with torch.no_grad():\n",
    "        for batch in tqdm(dataloader):\n",
    "            audio_inputs, labels = batch\n",
    "            audio_inputs = {key: val.squeeze(0).to(device) for key, val in audio_inputs.items()}\n",
    "            labels = labels.to(device)\n",
    "\n",
    "            outputs = model(audio_inputs)\n",
    "            \n",
    "            loss = criterion(outputs, labels)\n",
    "            total_loss += loss.item()\n",
    "\n",
    "            preds = torch.argmax(outputs, dim=1)\n",
    "            correct += (preds == labels).sum().item()\n",
    "            total += labels.size(0)\n",
    "\n",
    "    print(f\"Validation Loss: {total_loss:.4f}, Accuracy: {correct / total:.4f}\")\n"
   ]
  },
  {
   "cell_type": "code",
   "execution_count": 40,
   "id": "bdb8591d",
   "metadata": {},
   "outputs": [
    {
     "name": "stderr",
     "output_type": "stream",
     "text": [
      "100%|████████████████████████████████████████████████████████████████████████████████████████| 100/100 [01:06<00:00,  1.50it/s]"
     ]
    },
    {
     "name": "stdout",
     "output_type": "stream",
     "text": [
      "Validation Loss: 105.2952, Accuracy: 0.6675\n"
     ]
    },
    {
     "name": "stderr",
     "output_type": "stream",
     "text": [
      "\n"
     ]
    }
   ],
   "source": [
    "evaluate(model, dataloader_train, criterion, device=device)"
   ]
  },
  {
   "cell_type": "code",
   "execution_count": 41,
   "id": "0a5a789b",
   "metadata": {},
   "outputs": [
    {
     "name": "stderr",
     "output_type": "stream",
     "text": [
      "100%|██████████████████████████████████████████████████████████████████████████████████████████| 25/25 [00:16<00:00,  1.53it/s]"
     ]
    },
    {
     "name": "stdout",
     "output_type": "stream",
     "text": [
      "Validation Loss: 40.5602, Accuracy: 0.4100\n"
     ]
    },
    {
     "name": "stderr",
     "output_type": "stream",
     "text": [
      "\n"
     ]
    }
   ],
   "source": [
    "evaluate(model, dataloader_test, criterion, device=device)"
   ]
  },
  {
   "cell_type": "code",
   "execution_count": 42,
   "id": "d81a4ee4",
   "metadata": {},
   "outputs": [],
   "source": [
    "torch.save(model.state_dict(), 'clap_unfrozen.pth')"
   ]
  },
  {
   "cell_type": "code",
   "execution_count": null,
   "id": "787b3e5f-c078-42af-a97d-00dfdf1ca7da",
   "metadata": {},
   "outputs": [],
   "source": []
  },
  {
   "cell_type": "code",
   "execution_count": null,
   "id": "317a4a4e-07c3-4dae-ab91-67145808789c",
   "metadata": {},
   "outputs": [],
   "source": []
  }
 ],
 "metadata": {
  "kernelspec": {
   "display_name": "Python 3 (ipykernel)",
   "language": "python",
   "name": "python3"
  },
  "language_info": {
   "codemirror_mode": {
    "name": "ipython",
    "version": 3
   },
   "file_extension": ".py",
   "mimetype": "text/x-python",
   "name": "python",
   "nbconvert_exporter": "python",
   "pygments_lexer": "ipython3",
   "version": "3.10.15"
  }
 },
 "nbformat": 4,
 "nbformat_minor": 5
}
