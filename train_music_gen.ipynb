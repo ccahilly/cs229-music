{
 "cells": [
  {
   "cell_type": "code",
   "execution_count": null,
   "id": "e3dc758d",
   "metadata": {},
   "outputs": [],
   "source": [
    "import torch\n",
    "from torch import nn, optim\n",
    "from torch.utils.data import DataLoader\n",
    "from transformers import MusicGenModel, MusicGenTokenizer\n",
    "import torchaudio\n",
    "\n",
    "device = torch.device(\"cuda\" if torch.cuda.is_available() else \"cpu\")\n",
    "\n",
    "# Load the pre-trained MusicGen model and tokenizer\n",
    "model = MusicGenModel.from_pretrained(\"facebook/musicgen-small\").to(device)\n",
    "model.train()\n",
    "\n",
    "# Define the optimizer and loss function\n",
    "optimizer = optim.AdamW(model.parameters(), lr=1e-4)\n",
    "criterion = nn.MSELoss()  # Change as needed for your task\n",
    "\n",
    "# Training loop\n",
    "num_epochs = 10\n",
    "for epoch in range(num_epochs):\n",
    "    epoch_loss = 0\n",
    "    for batch in data_loader:  # Assume data_loader yields batches with 'text' and 'audio_filenames'\n",
    "        text_inputs = batch['text']  # e.g., list of text descriptions\n",
    "        audio_filenames = batch['audio_filenames']\n",
    "\n",
    "        # Load and preprocess audio tensors\n",
    "        audio_inputs = torch.stack([load_audio(file).to(device) for file in audio_filenames])\n",
    "\n",
    "        # Tokenize text inputs\n",
    "        tokenizer = MusicGenTokenizer.from_pretrained(\"facebook/musicgen-small\")\n",
    "        text_inputs = tokenizer(text_inputs, return_tensors=\"pt\", padding=True, truncation=True).to(device)\n",
    "\n",
    "        # Zero the gradient\n",
    "        optimizer.zero_grad()\n",
    "\n",
    "        # Forward pass\n",
    "        outputs = model(input_ids=text_inputs['input_ids'], labels=audio_inputs)\n",
    "        loss = outputs.loss\n",
    "\n",
    "        # Backward pass and optimization\n",
    "        loss.backward()\n",
    "        optimizer.step()\n",
    "\n",
    "        # Track the loss\n",
    "        epoch_loss += loss.item()\n",
    "\n",
    "    # Print epoch loss\n",
    "    print(f\"Epoch {epoch + 1}/{num_epochs}, Loss: {epoch_loss / len(data_loader):.4f}\")\n",
    "\n",
    "print(\"Training completed.\")\n"
   ]
  }
 ],
 "metadata": {
  "kernelspec": {
   "display_name": "Python 3",
   "language": "python",
   "name": "python3"
  },
  "language_info": {
   "codemirror_mode": {
    "name": "ipython",
    "version": 3
   },
   "file_extension": ".py",
   "mimetype": "text/x-python",
   "name": "python",
   "nbconvert_exporter": "python",
   "pygments_lexer": "ipython3",
   "version": "3.10.15"
  }
 },
 "nbformat": 4,
 "nbformat_minor": 5
}
