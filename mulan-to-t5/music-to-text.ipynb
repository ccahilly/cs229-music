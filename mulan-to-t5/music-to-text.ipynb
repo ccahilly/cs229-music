{
 "cells": [
  {
   "cell_type": "code",
   "execution_count": 1,
   "id": "9b827f24",
   "metadata": {},
   "outputs": [
    {
     "ename": "ModuleNotFoundError",
     "evalue": "No module named 'jukebox'",
     "output_type": "error",
     "traceback": [
      "\u001b[0;31m---------------------------------------------------------------------------\u001b[0m",
      "\u001b[0;31mModuleNotFoundError\u001b[0m                       Traceback (most recent call last)",
      "Cell \u001b[0;32mIn[1], line 4\u001b[0m\n\u001b[1;32m      2\u001b[0m \u001b[38;5;28;01mfrom\u001b[39;00m \u001b[38;5;21;01mtorch\u001b[39;00m\u001b[38;5;21;01m.\u001b[39;00m\u001b[38;5;21;01mutils\u001b[39;00m\u001b[38;5;21;01m.\u001b[39;00m\u001b[38;5;21;01mdata\u001b[39;00m \u001b[38;5;28;01mimport\u001b[39;00m Dataset, DataLoader\n\u001b[1;32m      3\u001b[0m \u001b[38;5;28;01mfrom\u001b[39;00m \u001b[38;5;21;01mtransformers\u001b[39;00m \u001b[38;5;28;01mimport\u001b[39;00m GPT2Tokenizer, GPT2LMHeadModel, AdamW\n\u001b[0;32m----> 4\u001b[0m \u001b[38;5;28;01mfrom\u001b[39;00m \u001b[38;5;21;01mjukebox\u001b[39;00m\u001b[38;5;21;01m.\u001b[39;00m\u001b[38;5;21;01mmake_models\u001b[39;00m \u001b[38;5;28;01mimport\u001b[39;00m make_vqvae\n\u001b[1;32m      5\u001b[0m \u001b[38;5;28;01mimport\u001b[39;00m \u001b[38;5;21;01mlibrosa\u001b[39;00m\n\u001b[1;32m      6\u001b[0m \u001b[38;5;28;01mimport\u001b[39;00m \u001b[38;5;21;01mos\u001b[39;00m\n",
      "\u001b[0;31mModuleNotFoundError\u001b[0m: No module named 'jukebox'"
     ]
    }
   ],
   "source": [
    "import torch\n",
    "from torch.utils.data import Dataset, DataLoader\n",
    "from transformers import GPT2Tokenizer, GPT2LMHeadModel, AdamW\n",
    "from jukebox.make_models import make_vqvae\n",
    "import librosa\n",
    "import os"
   ]
  },
  {
   "cell_type": "code",
   "execution_count": null,
   "id": "70b5c4e8",
   "metadata": {},
   "outputs": [],
   "source": [
    "# ------------------- Dataset Class -------------------\n",
    "class AudioTextDataset(Dataset):\n",
    "    def __init__(self, audio_dir, text_file, tokenizer, max_length=512):\n",
    "        \"\"\"\n",
    "        Dataset to load audio and text pairs.\n",
    "        :param audio_dir: Directory containing audio files.\n",
    "        :param text_file: File containing corresponding text descriptions (one per line).\n",
    "        :param tokenizer: Tokenizer for text processing.\n",
    "        :param max_length: Maximum token length for text sequences.\n",
    "        \"\"\"\n",
    "        self.audio_files = sorted([os.path.join(audio_dir, f) for f in os.listdir(audio_dir) if f.endswith(\".wav\")])\n",
    "        with open(text_file, 'r') as f:\n",
    "            self.text_descriptions = [line.strip() for line in f.readlines()]\n",
    "        self.tokenizer = tokenizer\n",
    "        self.max_length = max_length\n",
    "\n",
    "    def __len__(self):\n",
    "        return len(self.audio_files)\n",
    "\n",
    "    def preprocess_audio(self, filepath):\n",
    "        audio, sr = librosa.load(filepath, sr=44100, mono=True)\n",
    "        return torch.tensor(audio, dtype=torch.float32).unsqueeze(0)  # Add batch dimension\n",
    "\n",
    "    def __getitem__(self, idx):\n",
    "        audio_path = self.audio_files[idx]\n",
    "        text = self.text_descriptions[idx]\n",
    "        audio = self.preprocess_audio(audio_path)\n",
    "        tokens = self.tokenizer(\n",
    "            text, return_tensors=\"pt\", max_length=self.max_length, truncation=True, padding=\"max_length\"\n",
    "        ).input_ids.squeeze(0)\n",
    "        return audio, tokens\n"
   ]
  },
  {
   "cell_type": "code",
   "execution_count": null,
   "id": "64705173",
   "metadata": {},
   "outputs": [],
   "source": [
    "def load_jukebox_encoder():\n",
    "    \"\"\"\n",
    "    Load the Jukebox encoder.\n",
    "    \"\"\"\n",
    "    device = 'cuda' if torch.cuda.is_available() else 'cpu'\n",
    "    vqvae = make_vqvae(model_name='5b', device=device)\n",
    "    encoder = vqvae.encoder\n",
    "    return encoder"
   ]
  },
  {
   "cell_type": "code",
   "execution_count": null,
   "id": "f12f798a",
   "metadata": {},
   "outputs": [],
   "source": [
    "\n",
    "# ------------------- Fine-Tuning Function -------------------\n",
    "def fine_tune(audio_dir, text_file, output_dir, epochs=3, batch_size=8, lr=5e-5):\n",
    "    \"\"\"\n",
    "    Fine-tune a GPT-2 model using Jukebox embeddings and text descriptions.\n",
    "    \"\"\"\n",
    "    # Load Jukebox encoder\n",
    "    device = 'cuda' if torch.cuda.is_available() else 'cpu'\n",
    "    encoder = load_jukebox_encoder()\n",
    "    encoder.eval().to(device)\n",
    "\n",
    "    # Load tokenizer and GPT-2 model\n",
    "    tokenizer = GPT2Tokenizer.from_pretrained(\"gpt2\")\n",
    "    model = GPT2LMHeadModel.from_pretrained(\"gpt2\").to(device)\n",
    "\n",
    "    # Prepare dataset and dataloader\n",
    "    dataset = AudioTextDataset(audio_dir, text_file, tokenizer)\n",
    "    dataloader = DataLoader(dataset, batch_size=batch_size, shuffle=True, collate_fn=lambda x: x)\n",
    "\n",
    "    # Optimizer\n",
    "    optimizer = AdamW(model.parameters(), lr=lr)\n",
    "\n",
    "    # Training loop\n",
    "    for epoch in range(epochs):\n",
    "        model.train()\n",
    "        total_loss = 0\n",
    "        for batch in dataloader:\n",
    "            audios, token_ids = zip(*batch)\n",
    "            \n",
    "            # Process audio through encoder\n",
    "            audio_tensors = torch.cat([audio.to(device) for audio in audios], dim=0)\n",
    "            with torch.no_grad():\n",
    "                embeddings = encoder(audio_tensors)\n",
    "            \n",
    "            # Flatten embeddings for input into GPT-2\n",
    "            embeddings = embeddings.flatten(start_dim=1)\n",
    "\n",
    "            # Prepare text inputs\n",
    "            token_ids = torch.stack(token_ids).to(device)\n",
    "\n",
    "            # Forward pass\n",
    "            outputs = model(inputs_embeds=embeddings, labels=token_ids)\n",
    "            loss = outputs.loss\n",
    "\n",
    "            # Backward pass and optimization\n",
    "            optimizer.zero_grad()\n",
    "            loss.backward()\n",
    "            optimizer.step()\n",
    "\n",
    "            total_loss += loss.item()\n",
    "\n",
    "        print(f\"Epoch {epoch + 1}/{epochs}, Loss: {total_loss / len(dataloader)}\")\n",
    "\n",
    "    # Save the fine-tuned model\n",
    "    model.save_pretrained(output_dir)\n",
    "    tokenizer.save_pretrained(output_dir)"
   ]
  },
  {
   "cell_type": "code",
   "execution_count": null,
   "id": "268cd897",
   "metadata": {},
   "outputs": [],
   "source": [
    "audio_dir = \"./audio_files\"\n",
    "text_file = \"./descriptions.txt\"\n",
    "output_dir = \"./fine_tuned_model\"\n",
    "\n",
    "# Train the model\n",
    "fine_tune(audio_dir, text_file, output_dir, epochs=3, batch_size=4, lr=5e-5)"
   ]
  }
 ],
 "metadata": {
  "kernelspec": {
   "display_name": "Python 3",
   "language": "python",
   "name": "python3"
  },
  "language_info": {
   "codemirror_mode": {
    "name": "ipython",
    "version": 3
   },
   "file_extension": ".py",
   "mimetype": "text/x-python",
   "name": "python",
   "nbconvert_exporter": "python",
   "pygments_lexer": "ipython3",
   "version": "3.10.15"
  }
 },
 "nbformat": 4,
 "nbformat_minor": 5
}
